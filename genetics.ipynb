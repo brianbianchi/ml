{
 "cells": [
  {
   "cell_type": "markdown",
   "id": "d64f77eb-3a11-495e-ab7a-f5af3fd8bc45",
   "metadata": {},
   "source": [
    "# Genetic algorithms\n",
    "Inspired by the core principles of Darwinian evolution.\n",
    "\n",
    "- **Heredity**: There must be a mechanism that allows parent creatures in one generation to pass their traits down to child creatures in the next generation.\n",
    "- **Variation**: There must be a variety of traits present in the population of creatures or a means to introduce variation for evolution to take place.\n",
    "- **Selection**: There must be a mechanism by which some creatures have the opportunity to be parents and pass on their genetic information, while others don’t. This is commonly referred to as *survival of the fittest*.\n",
    "\n",
    "## Steps\n",
    "\n",
    "1. Create a random population of N elements (Variation)\n",
    "2. Evaluate fitness of each element (Selection)\n",
    "3. Reproduction (Heredity)\n",
    "   1. Pick parents\n",
    "   2. Crossover - create a child by combining two parents\n",
    "   3. Mutate new child based on a given probability"
   ]
  },
  {
   "cell_type": "code",
   "execution_count": 1,
   "id": "d4fbebc4-1f1f-4395-90bc-f776b1e687fc",
   "metadata": {},
   "outputs": [],
   "source": [
    "target = \"To be or not to be.\"\n",
    "mutation_rate = 0.01\n",
    "population_size = 500"
   ]
  },
  {
   "cell_type": "code",
   "execution_count": 2,
   "id": "75989bf8-db37-4805-aeb5-296b7ef8138c",
   "metadata": {},
   "outputs": [],
   "source": [
    "import math\n",
    "import random\n",
    "import string\n",
    "\n",
    "def new_random_char():\n",
    "    all_characters = string.ascii_letters + string.digits + string.punctuation + ' '\n",
    "    return random.choice(all_characters)"
   ]
  },
  {
   "cell_type": "code",
   "execution_count": 3,
   "id": "bf5a7145-fa7b-4e57-b50a-4a5d5f33f5fd",
   "metadata": {},
   "outputs": [],
   "source": [
    "class DNA:\n",
    "    def __init__(self, target, mutation_rate):\n",
    "        self.target = target\n",
    "        self.mutation_rate = mutation_rate\n",
    "        self.genes = []\n",
    "        self.create_random_genes()\n",
    "        self.fitness = 0\n",
    "\n",
    "    def __str__(self):\n",
    "        return \"\".join(self.genes)\n",
    "\n",
    "    def create_random_genes(self):\n",
    "        self.genes = [new_random_char() for _ in range(len(target))]\n",
    "    \n",
    "    def calc_fitness(self):\n",
    "        score = 0\n",
    "        for i in range(len(self.genes)):\n",
    "            if self.genes[i] == self.target[i]:\n",
    "                score += 1\n",
    "        self.fitness = (score / len(self.target)) ** 2\n",
    "\n",
    "    def reproduce(self, partner):\n",
    "        child = DNA(self.target, self.mutation_rate)\n",
    "        midpoint = len(self.target) // 2\n",
    "        child.genes = self.genes[:midpoint] + partner.genes[midpoint:]\n",
    "        # mutate\n",
    "        for i in range(len(child.genes)):\n",
    "            if random.random() <= self.mutation_rate:\n",
    "                child.genes[i] = new_random_char()\n",
    "        child.calc_fitness()\n",
    "        return child"
   ]
  },
  {
   "cell_type": "code",
   "execution_count": 4,
   "id": "153f3352-1b77-4bc1-a888-6acda4ba6a5b",
   "metadata": {},
   "outputs": [],
   "source": [
    "class Population:\n",
    "    def __init__(self, target, mutation_rate, population_size):\n",
    "        self.target = target\n",
    "        self.mutation_rate = mutation_rate\n",
    "        self.population_size = population_size\n",
    "        self.population = []\n",
    "        self.create_population()\n",
    "        self.generation = 0\n",
    "        self.mating_pool = []\n",
    "        self.done = False\n",
    "\n",
    "    def create_population(self):\n",
    "        new_gen = []\n",
    "        for _ in range(self.population_size):\n",
    "            dna = DNA(self.target, self.mutation_rate)\n",
    "            dna.calc_fitness()\n",
    "            new_gen.append(dna)\n",
    "        self.population = new_gen\n",
    "\n",
    "    def natural_selection(self):\n",
    "        new_mating_pool = []\n",
    "        # normalize fitness scores and add to mating pool\n",
    "        for dna in self.population:\n",
    "            times = math.floor(dna.fitness * 100)\n",
    "            new_mating_pool += [dna for _ in range(times)]\n",
    "        self.mating_pool = new_mating_pool\n",
    "\n",
    "    def mate(self):\n",
    "        # select from mating pool\n",
    "        next_gen = []\n",
    "        for _ in range(self.population_size):\n",
    "            parent1 = random.choice(self.mating_pool)\n",
    "            parent2 = random.choice(self.mating_pool)\n",
    "            child = parent1.reproduce(parent2)\n",
    "            if child.fitness == 1:\n",
    "                self.done = True\n",
    "            next_gen.append(child)\n",
    "        self.population = next_gen\n",
    "        self.generation += 1\n",
    "\n",
    "    def evaluate(self):\n",
    "        total_fitness = 0\n",
    "        best = self.population[0]\n",
    "        for dna in self.population:\n",
    "            total_fitness += dna.fitness\n",
    "            if dna.fitness > best.fitness:\n",
    "                best = dna\n",
    "        print(f'Generation: {self.generation}, Average fitness: {round(total_fitness / self.population_size, 2)}')\n",
    "        print(f'Best phrase: {best}\\n')"
   ]
  },
  {
   "cell_type": "code",
   "execution_count": 5,
   "id": "155cfb41-4f99-470e-8547-1a700ffa2ef4",
   "metadata": {},
   "outputs": [
    {
     "name": "stdout",
     "output_type": "stream",
     "text": [
      "racXcir\n",
      "0.5102040816326531\n"
     ]
    }
   ],
   "source": [
    "dna = DNA('racecar', 0.01)\n",
    "dna.genes = ['r','a','c','X','c','i','r']\n",
    "dna.calc_fitness()\n",
    "print(dna)\n",
    "print(dna.fitness)"
   ]
  },
  {
   "cell_type": "code",
   "execution_count": 6,
   "id": "c247f717-3842-4b48-aaf2-c353c1f0e37b",
   "metadata": {},
   "outputs": [
    {
     "name": "stdout",
     "output_type": "stream",
     "text": [
      "gomecar\n",
      "0.32653061224489793\n"
     ]
    }
   ],
   "source": [
    "dna2 = DNA('racecar', 0.01)\n",
    "dna2.genes = ['g','o','m','e','c','a','r']\n",
    "dna2.calc_fitness()\n",
    "print(dna2)\n",
    "print(dna2.fitness)"
   ]
  },
  {
   "cell_type": "code",
   "execution_count": 7,
   "id": "0d9a82f4-08af-4fda-920d-51bb50609022",
   "metadata": {},
   "outputs": [
    {
     "name": "stdout",
     "output_type": "stream",
     "text": [
      "racecar\n",
      "1.0\n"
     ]
    }
   ],
   "source": [
    "dna3 = dna.reproduce(dna2)\n",
    "print(dna3)\n",
    "print(dna3.fitness)"
   ]
  },
  {
   "cell_type": "code",
   "execution_count": 8,
   "id": "26c56c75-b7eb-4be5-b25e-67340450e21a",
   "metadata": {},
   "outputs": [],
   "source": [
    "population = Population(target, mutation_rate, population_size)"
   ]
  },
  {
   "cell_type": "code",
   "execution_count": 9,
   "id": "738e6cb2-cc10-45c5-b79e-5007f60f2753",
   "metadata": {},
   "outputs": [
    {
     "name": "stdout",
     "output_type": "stream",
     "text": [
      "Population size: 500, Mutation rate: 0.01, Mating pool: 0\n",
      "Generation: 1, Average fitness: 0.01\n",
      "Best phrase: f#RzeY)L lo:H:i Qo-\n",
      "\n",
      "Generation: 10, Average fitness: 0.04\n",
      "Best phrase: f#RzeY)L lotH:i Qo-\n",
      "\n",
      "Generation: 20, Average fitness: 0.05\n",
      "Best phrase: S6\\zeY)r lotH1i #o-\n",
      "\n",
      "Generation: 30, Average fitness: 0.09\n",
      "Best phrase: 7#RYeq)r nowH:i bo-\n",
      "\n",
      "Generation: 40, Average fitness: 0.11\n",
      "Best phrase: TodzeY)L nowH:i bo-\n",
      "\n",
      "Generation: 50, Average fitness: 0.14\n",
      "Best phrase: TOR^eq)r nowH:i bo-\n",
      "\n",
      "Generation: 60, Average fitness: 0.16\n",
      "Best phrase: Tod2eY~L no,:ti bo-\n",
      "\n",
      "Generation: 70, Average fitness: 0.17\n",
      "Best phrase: T_ ^e Dr noYa:i bo;\n",
      "\n",
      "Generation: 80, Average fitness: 0.19\n",
      "Best phrase: TodbeY)L nowHF= beu\n",
      "\n",
      "Generation: 90, Average fitness: 0.23\n",
      "Best phrase: TodbeY)L notHSi be'\n",
      "\n",
      "Generation: 100, Average fitness: 0.27\n",
      "Best phrase: TodbeYoH notHSi be'\n",
      "\n",
      "Generation: 110, Average fitness: 0.33\n",
      "Best phrase: TodbeYoH nok :c beu\n",
      "\n",
      "Generation: 120, Average fitness: 0.36\n",
      "Best phrase: TodbeYor now :c beu\n",
      "\n",
      "Generation: 130, Average fitness: 0.36\n",
      "Best phrase: ToHbeYor notHci bey\n",
      "\n",
      "Generation: 140, Average fitness: 0.37\n",
      "Best phrase: ToHbeYor notH5i be%\n",
      "\n",
      "Generation: 150, Average fitness: 0.37\n",
      "Best phrase: ToHbeYor noD=FL be.\n",
      "\n",
      "Generation: 160, Average fitness: 0.38\n",
      "Best phrase: ToHbe or noxO8v be.\n",
      "\n",
      "Generation: 170, Average fitness: 0.41\n",
      "Best phrase: ToHbe or not%c$ be'\n",
      "\n",
      "Generation: 180, Average fitness: 0.43\n",
      "Best phrase: ToHbe or notw31 beU\n",
      "\n",
      "Generation: 190, Average fitness: 0.44\n",
      "Best phrase: ToCbe or not>ci ber\n",
      "\n",
      "Generation: 200, Average fitness: 0.46\n",
      "Best phrase: ToHbe or nox 8v be.\n",
      "\n",
      "Generation: 210, Average fitness: 0.48\n",
      "Best phrase: ToHbe or nox 8v be.\n",
      "\n",
      "Generation: 220, Average fitness: 0.5\n",
      "Best phrase: ToHbe or nox Qv be.\n",
      "\n",
      "Generation: 230, Average fitness: 0.51\n",
      "Best phrase: ToHbe or noH 81 be.\n",
      "\n",
      "Generation: 240, Average fitness: 0.52\n",
      "Best phrase: ToHbe or nox 81 be.\n",
      "\n",
      "Generation: 250, Average fitness: 0.54\n",
      "Best phrase: ToHbe or nox 8o be.\n",
      "\n",
      "Generation: 260, Average fitness: 0.55\n",
      "Best phrase: ToHbe or nox so be.\n",
      "\n",
      "Generation: 270, Average fitness: 0.56\n",
      "Best phrase: ToHbe or nox 8o be.\n",
      "\n",
      "Generation: 280, Average fitness: 0.58\n",
      "Best phrase: Totbe or nox to be.\n",
      "\n",
      "Generation: 290, Average fitness: 0.61\n",
      "Best phrase: Totbe or noz to be.\n",
      "\n",
      "Generation: 300, Average fitness: 0.62\n",
      "Best phrase: To-be or nox to be.\n",
      "\n",
      "Generation: 310, Average fitness: 0.63\n",
      "Best phrase: To be or nox to be.\n",
      "\n",
      "Generation: 320, Average fitness: 0.66\n",
      "Best phrase: To be or nox to be.\n",
      "\n",
      "Generation: 330, Average fitness: 0.67\n",
      "Best phrase: To be or nof to be.\n",
      "\n",
      "Generation: 340, Average fitness: 0.7\n",
      "Best phrase: To be or nox to be.\n",
      "\n",
      "Generation: 347, Average fitness: 0.73\n",
      "Best phrase: To be or not to be.\n",
      "\n"
     ]
    }
   ],
   "source": [
    "print(f'Population size: {population.population_size}, Mutation rate: {population.mutation_rate}, Mating pool: {len(population.mating_pool)}')\n",
    "while not population.done:\n",
    "    population.natural_selection()\n",
    "    population.mate()\n",
    "    if population.generation % 10 == 0 or population.generation == 1 or population.done:\n",
    "        population.evaluate()"
   ]
  }
 ],
 "metadata": {
  "kernelspec": {
   "display_name": "Python 3 (ipykernel)",
   "language": "python",
   "name": "python3"
  },
  "language_info": {
   "codemirror_mode": {
    "name": "ipython",
    "version": 3
   },
   "file_extension": ".py",
   "mimetype": "text/x-python",
   "name": "python",
   "nbconvert_exporter": "python",
   "pygments_lexer": "ipython3",
   "version": "3.12.9"
  }
 },
 "nbformat": 4,
 "nbformat_minor": 5
}
