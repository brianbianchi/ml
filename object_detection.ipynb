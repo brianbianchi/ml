{
 "cells": [
  {
   "cell_type": "code",
   "execution_count": 63,
   "id": "0001fd7d-828f-46df-9220-2d049dd93c6e",
   "metadata": {
    "jupyter": {
     "source_hidden": true
    }
   },
   "outputs": [
    {
     "name": "stdout",
     "output_type": "stream",
     "text": [
      "Requirement already satisfied: opencv-python in /Users/brianbianchi/.pyenv/versions/3.11.0/lib/python3.11/site-packages (4.10.0.84)\n",
      "Requirement already satisfied: numpy>=1.21.2 in /Users/brianbianchi/.pyenv/versions/3.11.0/lib/python3.11/site-packages (from opencv-python) (2.1.3)\n"
     ]
    }
   ],
   "source": [
    "!pip install opencv-python"
   ]
  },
  {
   "cell_type": "code",
   "execution_count": 64,
   "id": "a3a3a6f2-ed2b-4e21-925a-7ef6be106f1d",
   "metadata": {},
   "outputs": [],
   "source": [
    "import cv2\n",
    "import IPython.display as ipd\n",
    "from tqdm import tqdm # progress bar\n",
    "import subprocess"
   ]
  },
  {
   "cell_type": "code",
   "execution_count": 65,
   "id": "403ef7a8-dbfb-4f29-8a0e-2998aeb525a2",
   "metadata": {},
   "outputs": [],
   "source": [
    "# https://doc.bdd100k.com/\n",
    "# http://dl.yf.io/bdd100k/video_parts/\n",
    "# https://www.kaggle.com/datasets/deeplyft/driving-video-subset-50-with-object-tracking\n",
    "# Video for Object Detection (yt playlist)\n",
    "# https://youtube.com/playlist?list=PLcQZGj9lFR7y5WikozDSrdk6UCtAnM9mB&si=WBmV5nw6A8q6JFiQ\n",
    "cap = cv2.VideoCapture('./data/example.mp4')"
   ]
  },
  {
   "cell_type": "code",
   "execution_count": 66,
   "id": "13858440-c120-4566-8610-7a8fc823f6d0",
   "metadata": {},
   "outputs": [
    {
     "data": {
      "text/plain": [
       "2301"
      ]
     },
     "execution_count": 66,
     "metadata": {},
     "output_type": "execute_result"
    }
   ],
   "source": [
    "n_frames = int(cap.get(cv2.CAP_PROP_FRAME_COUNT))\n",
    "n_frames"
   ]
  },
  {
   "cell_type": "code",
   "execution_count": 67,
   "id": "aae963c5-ec50-457f-a2ef-af64bb7432d6",
   "metadata": {},
   "outputs": [
    {
     "name": "stdout",
     "output_type": "stream",
     "text": [
      "(width, height) (1280, 720)\n"
     ]
    }
   ],
   "source": [
    "width = int(cap.get(cv2.CAP_PROP_FRAME_WIDTH))\n",
    "height = int(cap.get(cv2.CAP_PROP_FRAME_HEIGHT))\n",
    "print(f'(width, height) ({width}, {height})')"
   ]
  },
  {
   "cell_type": "code",
   "execution_count": 68,
   "id": "9db3e2d9-be66-47cd-8add-3dad98af71e2",
   "metadata": {},
   "outputs": [
    {
     "data": {
      "text/plain": [
       "29.97"
      ]
     },
     "execution_count": 68,
     "metadata": {},
     "output_type": "execute_result"
    }
   ],
   "source": [
    "fps = round(cap.get(cv2.CAP_PROP_FPS), 2)\n",
    "fps"
   ]
  },
  {
   "cell_type": "code",
   "execution_count": 69,
   "id": "f963411b-097e-4bc5-bd38-085d6bb5116a",
   "metadata": {},
   "outputs": [
    {
     "data": {
      "text/html": [
       "<video src=\"./data/example.mp4\" controls  width=\"700\" >\n",
       "      Your browser does not support the <code>video</code> element.\n",
       "    </video>"
      ],
      "text/plain": [
       "<IPython.core.display.Video object>"
      ]
     },
     "execution_count": 69,
     "metadata": {},
     "output_type": "execute_result"
    }
   ],
   "source": [
    "ipd.Video('./data/example.mp4', width=700)"
   ]
  },
  {
   "cell_type": "code",
   "execution_count": 70,
   "id": "c8047798-ec1e-4da3-a69f-ade673e791a9",
   "metadata": {},
   "outputs": [],
   "source": [
    "def mark_objects(frame, object_detector):\n",
    "    mask = object_detector.apply(frame)\n",
    "    _, mask = cv2.threshold(mask, 254, 255, cv2.THRESH_BINARY)\n",
    "    contours, _ = cv2.findContours(mask, cv2.RETR_TREE, cv2.CHAIN_APPROX_SIMPLE)\n",
    "    for cnt in contours:\n",
    "        area = cv2.contourArea(cnt)\n",
    "        if area > 150:\n",
    "            # cv2.drawContours(frame, [cnt], -1, (0, 255, 0), 2)\n",
    "            x, y, w, h = cv2.boundingRect(cnt)\n",
    "            cv2.rectangle(frame, (x, y), (x + w, y + h), (0, 255, 0), 3)\n",
    "    return img"
   ]
  },
  {
   "cell_type": "code",
   "execution_count": 71,
   "id": "c6cf81af-382e-4dd2-87f4-70ac9c4298e8",
   "metadata": {},
   "outputs": [
    {
     "name": "stdout",
     "output_type": "stream",
     "text": [
      "rm: temp_labeled.mp4: No such file or directory\n"
     ]
    }
   ],
   "source": [
    "!rm -r labeled.mp4\n",
    "!rm -r temp_labeled.mp4"
   ]
  },
  {
   "cell_type": "code",
   "execution_count": 72,
   "id": "d437a436-e794-4514-8884-079f0c8b1279",
   "metadata": {},
   "outputs": [
    {
     "name": "stderr",
     "output_type": "stream",
     "text": [
      "100%|█████████████████████████████████████▉| 2300/2301 [00:21<00:00, 105.47it/s]\n"
     ]
    }
   ],
   "source": [
    "tmp_out_name = 'temp_labeled.mp4'\n",
    "out = cv2.VideoWriter(tmp_out_name,\n",
    "                      cv2.VideoWriter_fourcc(*'mp4v'),\n",
    "                      fps,\n",
    "                      (width, height))\n",
    "object_detector = cv2.createBackgroundSubtractorMOG2(history=500, varThreshold=80)\n",
    "_, img = cap.read()\n",
    "\n",
    "for frame in tqdm(range(n_frames), total=n_frames):\n",
    "    ret, img = cap.read()\n",
    "    if ret == False:\n",
    "        break\n",
    "    img = mark_objects(img, object_detector)\n",
    "    out.write(img)\n",
    "out.release()\n",
    "cap.release()"
   ]
  },
  {
   "cell_type": "code",
   "execution_count": 73,
   "id": "d20a6190-dce8-4016-a0bc-ddc8d6de3cb9",
   "metadata": {},
   "outputs": [
    {
     "data": {
      "text/plain": [
       "CompletedProcess(args=['ffmpeg', '-i', 'temp_labeled.mp4', '-crf', '18', '-preset', 'veryfast', '-vcodec', 'libx264', 'labeled.mp4', '-loglevel', 'quiet'], returncode=0)"
      ]
     },
     "execution_count": 73,
     "metadata": {},
     "output_type": "execute_result"
    }
   ],
   "source": [
    "# brew install ffmpeg\n",
    "# https://www.ffmpeg.org/\n",
    "out_name = 'labeled.mp4'\n",
    "subprocess.run(\n",
    "    [\n",
    "        \"ffmpeg\",\n",
    "        \"-i\",\n",
    "        tmp_out_name,\n",
    "        \"-crf\",\n",
    "        \"18\",\n",
    "        \"-preset\",\n",
    "        \"veryfast\",\n",
    "        \"-vcodec\",\n",
    "        \"libx264\",\n",
    "        out_name,\n",
    "        '-loglevel',\n",
    "        'quiet'\n",
    "    ]\n",
    ")\n",
    "# ffmpeg -i labeled.mp4 -filter_complex \"fps=24, scale=-1:360\" -ss 20.0 -t 10 labeled.gif"
   ]
  },
  {
   "cell_type": "code",
   "execution_count": 74,
   "id": "c16b2bdc-82ca-4600-ba4f-8886cd931e8c",
   "metadata": {},
   "outputs": [],
   "source": [
    "!rm -r temp_labeled.mp4"
   ]
  },
  {
   "cell_type": "code",
   "execution_count": 75,
   "id": "0c45a843-4371-4b56-862d-4c6b9765ff3a",
   "metadata": {},
   "outputs": [
    {
     "data": {
      "text/html": [
       "<video src=\"labeled.mp4\" controls  width=\"700\" >\n",
       "      Your browser does not support the <code>video</code> element.\n",
       "    </video>"
      ],
      "text/plain": [
       "<IPython.core.display.Video object>"
      ]
     },
     "execution_count": 75,
     "metadata": {},
     "output_type": "execute_result"
    }
   ],
   "source": [
    "ipd.Video(out_name, width=700)"
   ]
  }
 ],
 "metadata": {
  "kernelspec": {
   "display_name": "Python 3 (ipykernel)",
   "language": "python",
   "name": "python3"
  },
  "language_info": {
   "codemirror_mode": {
    "name": "ipython",
    "version": 3
   },
   "file_extension": ".py",
   "mimetype": "text/x-python",
   "name": "python",
   "nbconvert_exporter": "python",
   "pygments_lexer": "ipython3",
   "version": "3.11.0"
  }
 },
 "nbformat": 4,
 "nbformat_minor": 5
}
