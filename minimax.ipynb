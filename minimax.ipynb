{
 "cells": [
  {
   "cell_type": "markdown",
   "id": "53ece78e-fdfd-43c2-b002-022e751d961f",
   "metadata": {},
   "source": [
    "# Minimax Algorithm\n",
    "The Minimax algorithm is a decision-making algorithm commonly used in two-player games like Tic-Tac-Toe, Chess, or Checkers. It helps determine the optimal move for a player by minimizing the possible loss in a worst-case scenario.\n",
    "\n",
    "## Basic Concept\n",
    "- Two players: Maximizer (tries to get highest score) and Minimizer (tries to get lowest score)\n",
    "- Works on a game tree where each node represents a game state\n",
    "- Leaf nodes have utility values (scores)\n",
    "- Algorithm recursively evaluates all possible moves to find the best one\n",
    "\n",
    "## Minimax algorithm works by\n",
    "1. Recursively exploring all possible moves\n",
    "1. Assuming the opponent always makes their best move\n",
    "1. Backtracking to find the best initial move\n",
    "1. Using alternating maximizing and minimizing steps\n",
    "\n",
    "## Simple Example: Number Picking Game\n",
    "Let's implement a simple version where players pick the best number from a list,\n",
    "with Maximizer trying to get the highest number and Minimizer the lowest.\n",
    "\n",
    "## Psuedocode\n",
    "```\n",
    "function minimax(node, depth, maximizingPlayer) is\n",
    "    if depth = 0 or node is a terminal node then\n",
    "        return the heuristic value of node\n",
    "    if maximizingPlayer then\n",
    "        value := −∞\n",
    "        for each child of node do\n",
    "            value := max(value, minimax(child, depth − 1, FALSE))\n",
    "        return value\n",
    "    else (* minimizing player *)\n",
    "        value := +∞\n",
    "        for each child of node do\n",
    "            value := min(value, minimax(child, depth − 1, TRUE))\n",
    "        return value\n",
    "```"
   ]
  },
  {
   "cell_type": "markdown",
   "id": "b71d5dc1-2441-42e4-8a55-a72f6b91feb4",
   "metadata": {},
   "source": [
    "### Step 1: Define the Minimax Function"
   ]
  },
  {
   "cell_type": "code",
   "execution_count": 5,
   "id": "23ac8abf-2e99-4671-9958-9492474845bb",
   "metadata": {},
   "outputs": [],
   "source": [
    "def minimax(depth, nodeIndex, isMaximizingPlayer, values, maxDepth):\n",
    "    # Base case: if we've reached a leaf node (end of tree)\n",
    "    if depth == maxDepth:\n",
    "        return values[nodeIndex]\n",
    "    \n",
    "    if isMaximizingPlayer:\n",
    "        bestValue = float('-inf')  # Negative infinity\n",
    "        # Check both possible moves (children)\n",
    "        for i in range(2):\n",
    "            value = minimax(depth + 1, \n",
    "                          nodeIndex * 2 + i,\n",
    "                          False,\n",
    "                          values,\n",
    "                          maxDepth)\n",
    "            bestValue = max(bestValue, value)\n",
    "        return bestValue\n",
    "    \n",
    "    else:  # Minimizing player\n",
    "        bestValue = float('inf')  # Positive infinity\n",
    "        for i in range(2):\n",
    "            value = minimax(depth + 1,\n",
    "                          nodeIndex * 2 + i,\n",
    "                          True,\n",
    "                          values,\n",
    "                          maxDepth)\n",
    "            bestValue = min(bestValue, value)\n",
    "        return bestValue"
   ]
  },
  {
   "cell_type": "markdown",
   "id": "f818ae39-fdb7-45bd-b9c3-5a7528035b02",
   "metadata": {},
   "source": [
    "### Step 2: Test the Algorithm\n",
    "Example values at leaf nodes (bottom level of tree)"
   ]
  },
  {
   "cell_type": "code",
   "execution_count": 6,
   "id": "663ac763-634f-430d-a008-d15aebb0207d",
   "metadata": {},
   "outputs": [
    {
     "name": "stdout",
     "output_type": "stream",
     "text": [
      "Tree depth: 3\n",
      "The optimal value is: 12\n"
     ]
    }
   ],
   "source": [
    "values = [3, 5, 2, 9, 12, 5, 23, 15]\n",
    "\n",
    "# Calculate tree height (for a binary tree)\n",
    "import math\n",
    "maxDepth = math.floor(math.log2(len(values)))\n",
    "print(f\"Tree depth: {maxDepth}\")\n",
    "\n",
    "# Run minimax from root (depth 0, index 0, Maximizer starts)\n",
    "optimalValue = minimax(0, 0, True, values, maxDepth)\n",
    "print(f\"The optimal value is: {optimalValue}\")"
   ]
  },
  {
   "cell_type": "markdown",
   "id": "8dd6fd42-b693-4aef-9156-f27ba956c437",
   "metadata": {},
   "source": [
    "## Visualizing How It Works\n",
    "Let's break down what happens:\n",
    "- Level 0 (root): Maximizer's turn\n",
    "- Level 1: Minimizer's turn\n",
    "- Level 2: Maximizer's turn\n",
    "- Level 3: Leaf nodes [3, 5, 2, 9, 12, 5, 23, 15]"
   ]
  },
  {
   "cell_type": "markdown",
   "id": "805695db-2160-4bd7-9c1a-417773708382",
   "metadata": {},
   "source": [
    "### Step 3: Tic-Tac-Toe Example\n",
    "Here's a more practical example with a simple Tic-Tac-Toe endgame"
   ]
  },
  {
   "cell_type": "code",
   "execution_count": 7,
   "id": "ac191ec6-c5c5-498f-9073-b4abfbb680a1",
   "metadata": {},
   "outputs": [
    {
     "name": "stdout",
     "output_type": "stream",
     "text": [
      "Initial board:\n",
      "X O X\n",
      "O O _\n",
      "_ X _\n",
      "\n",
      "Best score for X: 0\n"
     ]
    }
   ],
   "source": [
    "def print_board(board):\n",
    "    for row in board:\n",
    "        print(\" \".join(row))\n",
    "    print()\n",
    "\n",
    "def evaluate(board):\n",
    "    # Check rows\n",
    "    for row in board:\n",
    "        if row == ['X', 'X', 'X']:\n",
    "            return 10\n",
    "        elif row == ['O', 'O', 'O']:\n",
    "            return -10\n",
    "    \n",
    "    # Check columns\n",
    "    for col in range(3):\n",
    "        if [board[row][col] for row in range(3)] == ['X', 'X', 'X']:\n",
    "            return 10\n",
    "        elif [board[row][col] for row in range(3)] == ['O', 'O', 'O']:\n",
    "            return -10\n",
    "    \n",
    "    # Check diagonals\n",
    "    if [board[i][i] for i in range(3)] == ['X', 'X', 'X']:\n",
    "        return 10\n",
    "    elif [board[i][i] for i in range(3)] == ['O', 'O', 'O']:\n",
    "        return -10\n",
    "    if [board[i][2-i] for i in range(3)] == ['X', 'X', 'X']:\n",
    "        return 10\n",
    "    elif [board[i][2-i] for i in range(3)] == ['O', 'O', 'O']:\n",
    "        return -10\n",
    "    \n",
    "    return 0  # No winner yet\n",
    "\n",
    "def is_moves_left(board):\n",
    "    return any('_' in row for row in board)\n",
    "\n",
    "def minimax_ttt(board, depth, isMax):\n",
    "    score = evaluate(board)\n",
    "    \n",
    "    # If someone won or no moves left\n",
    "    if score != 0 or not is_moves_left(board):\n",
    "        return score\n",
    "    \n",
    "    if isMax:\n",
    "        best = float('-inf')\n",
    "        for i in range(3):\n",
    "            for j in range(3):\n",
    "                if board[i][j] == '_':\n",
    "                    board[i][j] = 'X'\n",
    "                    best = max(best, minimax_ttt(board, depth + 1, False))\n",
    "                    board[i][j] = '_'  # Undo move\n",
    "        return best\n",
    "    else:\n",
    "        best = float('inf')\n",
    "        for i in range(3):\n",
    "            for j in range(3):\n",
    "                if board[i][j] == '_':\n",
    "                    board[i][j] = 'O'\n",
    "                    best = min(best, minimax_ttt(board, depth + 1, True))\n",
    "                    board[i][j] = '_'  # Undo move\n",
    "        return best\n",
    "\n",
    "# Test Tic-Tac-Toe\n",
    "board = [\n",
    "    ['X', 'O', 'X'],\n",
    "    ['O', 'O', '_'],\n",
    "    ['_', 'X', '_']\n",
    "]\n",
    "print(\"Initial board:\")\n",
    "print_board(board)\n",
    "score = minimax_ttt(board, 0, True)\n",
    "print(f\"Best score for X: {score}\")"
   ]
  },
  {
   "cell_type": "markdown",
   "id": "e8614703-2edc-424d-8d9c-5d8b8e0e3481",
   "metadata": {},
   "source": [
    "## [Alpha-beta pruning](https://en.wikipedia.org/wiki/Alpha%E2%80%93beta_pruning)\n",
    "[Search algorithm](https://youtu.be/l-hh51ncgDI?si=BZfiInYX2axKJ464) that seeks to decrease the number of nodes that are evaluated by the minimax algorithm in its search tree.\n",
    "\n",
    "### Psuedocode\n",
    "```\n",
    "function alphabeta(node, depth, α, β, maximizingPlayer) is\n",
    "    if depth == 0 or node is terminal then\n",
    "        return the heuristic value of node\n",
    "    if maximizingPlayer then\n",
    "        value := −∞\n",
    "        for each child of node do\n",
    "            value := max(value, alphabeta(child, depth − 1, α, β, FALSE))\n",
    "            α := max(α, value)\n",
    "            if value ≥ β then\n",
    "                break (* β cutoff *)\n",
    "        return value\n",
    "    else\n",
    "        value := +∞\n",
    "        for each child of node do\n",
    "            value := min(value, alphabeta(child, depth − 1, α, β, TRUE))\n",
    "            β := min(β, value)\n",
    "            if value ≤ α then\n",
    "                break (* α cutoff *)\n",
    "        return value\n",
    "```"
   ]
  }
 ],
 "metadata": {
  "kernelspec": {
   "display_name": "Python 3 (ipykernel)",
   "language": "python",
   "name": "python3"
  },
  "language_info": {
   "codemirror_mode": {
    "name": "ipython",
    "version": 3
   },
   "file_extension": ".py",
   "mimetype": "text/x-python",
   "name": "python",
   "nbconvert_exporter": "python",
   "pygments_lexer": "ipython3",
   "version": "3.12.9"
  }
 },
 "nbformat": 4,
 "nbformat_minor": 5
}
